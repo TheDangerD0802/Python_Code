{
 "cells": [
  {
   "cell_type": "code",
   "execution_count": 4,
   "metadata": {},
   "outputs": [],
   "source": [
    "import socket\n",
    "import pyttsx3\n",
    "import speech_recognition as sr"
   ]
  },
  {
   "cell_type": "code",
   "execution_count": 5,
   "metadata": {},
   "outputs": [],
   "source": [
    "s=socket.socket()"
   ]
  },
  {
   "cell_type": "code",
   "execution_count": 6,
   "metadata": {},
   "outputs": [],
   "source": [
    "s.connect((\"192.168.43.168\",1245))"
   ]
  },
  {
   "cell_type": "code",
   "execution_count": 7,
   "metadata": {},
   "outputs": [],
   "source": [
    "engine=pyttsx3.init()\n",
    "engine.say(\"hello , how can i help you?\")\n",
    "engine.runAndWait()\n",
    "#cmd=input(\"enter ur command:\")\n",
    "#cmd=cmd.encode()"
   ]
  },
  {
   "cell_type": "code",
   "execution_count": 8,
   "metadata": {},
   "outputs": [],
   "source": [
    "#dir(sr)"
   ]
  },
  {
   "cell_type": "code",
   "execution_count": null,
   "metadata": {},
   "outputs": [
    {
     "name": "stdout",
     "output_type": "stream",
     "text": [
      "say:\n"
     ]
    }
   ],
   "source": [
    "mic=sr.Microphone()\n",
    "rec=sr.Recognizer()\n",
    "with mic as source:\n",
    "    print(\"say:\")\n",
    "    audio=rec.listen(source)\n",
    "    text=rec.recognize_google(audio)\n",
    "    print(text)\n",
    "    if \"hadoop\" and \"start\" in text:\n",
    "        cmd=\"hadoop\"\n",
    "        cmd1=cmd.encode()\n",
    "        s.send(cmd1)\n",
    "        \n",
    "        '''engine.say(\"there are 5 nodes availbe right now, should i proceed\")\n",
    "        engine.runAndWait()\n",
    "        mic=sr.Microphone()\n",
    "        rec=sr.Recognize()\n",
    "        with mic as source:\n",
    "            print(\"say:\")\n",
    "            audio=rec.listen(source)\n",
    "            text=rec.recognize_google(audio)\n",
    "            print(text)\n",
    "            if \"yes\" in text:\n",
    "                engine.say(\"can you tell the ip of master\")\n",
    "                engine.runAndWait()\n",
    "                mic=sr.Microphone()\n",
    "                rec=sr.Recognize()\n",
    "                with mic as source:\n",
    "                    print(\"say:\")\n",
    "                    audio=rec.listen(source)\n",
    "                    text=rec.recognize_google(audio)\n",
    "                    x=print(text)\n",
    "                    y=\"192.168.43\"+text\n",
    "                    y1=y.encode()\n",
    "                    s.send(y1)\n",
    "                    \n",
    "    \n",
    "        #cmd1=cmd.encode()\n",
    "        #s.send(cmd1)\n",
    "        #print(s.recv(100).decode())'''  "
   ]
  },
  {
   "cell_type": "code",
   "execution_count": null,
   "metadata": {},
   "outputs": [],
   "source": []
  }
 ],
 "metadata": {
  "kernelspec": {
   "display_name": "Python 3",
   "language": "python",
   "name": "python3"
  },
  "language_info": {
   "codemirror_mode": {
    "name": "ipython",
    "version": 3
   },
   "file_extension": ".py",
   "mimetype": "text/x-python",
   "name": "python",
   "nbconvert_exporter": "python",
   "pygments_lexer": "ipython3",
   "version": "3.6.4"
  }
 },
 "nbformat": 4,
 "nbformat_minor": 2
}
