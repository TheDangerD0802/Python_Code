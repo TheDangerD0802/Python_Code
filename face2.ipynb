{
 "cells": [
  {
   "cell_type": "code",
   "execution_count": 4,
   "metadata": {},
   "outputs": [],
   "source": [
    "import socket\n",
    "import pyttsx3\n",
    "import speech_recognition as sr"
   ]
  },
  {
   "cell_type": "code",
   "execution_count": 5,
   "metadata": {},
   "outputs": [],
   "source": [
    "s=socket.socket()"
   ]
  },
  {
   "cell_type": "code",
   "execution_count": 6,
   "metadata": {},
   "outputs": [
    {
     "ename": "TimeoutError",
     "evalue": "[WinError 10060] A connection attempt failed because the connected party did not properly respond after a period of time, or established connection failed because connected host has failed to respond",
     "output_type": "error",
     "traceback": [
      "\u001b[1;31m---------------------------------------------------------------------------\u001b[0m",
      "\u001b[1;31mTimeoutError\u001b[0m                              Traceback (most recent call last)",
      "\u001b[1;32m<ipython-input-6-90a26f99da36>\u001b[0m in \u001b[0;36m<module>\u001b[1;34m()\u001b[0m\n\u001b[1;32m----> 1\u001b[1;33m \u001b[0ms\u001b[0m\u001b[1;33m.\u001b[0m\u001b[0mconnect\u001b[0m\u001b[1;33m(\u001b[0m\u001b[1;33m(\u001b[0m\u001b[1;34m\"192.168.43.145\"\u001b[0m\u001b[1;33m,\u001b[0m\u001b[1;36m1234\u001b[0m\u001b[1;33m)\u001b[0m\u001b[1;33m)\u001b[0m\u001b[1;33m\u001b[0m\u001b[0m\n\u001b[0m",
      "\u001b[1;31mTimeoutError\u001b[0m: [WinError 10060] A connection attempt failed because the connected party did not properly respond after a period of time, or established connection failed because connected host has failed to respond"
     ]
    }
   ],
   "source": [
    "s.connect((\"192.168.43.145\",1234))"
   ]
  },
  {
   "cell_type": "code",
   "execution_count": null,
   "metadata": {},
   "outputs": [],
   "source": [
    "engine=pyttsx3.init()\n",
    "engine.say(\"hello , how can i help you?\")\n",
    "engine.runAndWait()\n",
    "#cmd=input(\"enter ur command:\")\n",
    "#cmd=cmd.encode()"
   ]
  },
  {
   "cell_type": "code",
   "execution_count": null,
   "metadata": {},
   "outputs": [],
   "source": [
    "cmd=input(\"Enter your command:\")\n",
    "cmd1=cmd.encode()\n",
    "#cmd1=cmd.encode()\n",
    "s.send(cmd1)\n",
    "mic=sr.Microphone()\n",
    "rec=sr.Recognizer()\n",
    "#with mic as source:\n",
    "    print(\"say:\")\n",
    "    audio=rec.listen(source)\n",
    "    text=rec.recognize_google(audio)\n",
    "    print(text)\n",
    "    if \"hadoop\" in text:\n",
    "        cmd=\"hadoop\"\n",
    "        cmd1=cmd.encode()\n",
    "        s.send(cmd1)\n",
    "        \n",
    "engine.say(\"What you want to install !!!\")\n",
    "engine.say(\"1. Install Java\")\n",
    "engine.say(\"2. Install Hadoop\")\n",
    "engine.say(\"3. Install Python\")\n",
    "engine.say(\"4. Set Hadoop Cluster\")\n",
    "engine.say(\"5. Set Mapred Cluster\")\n",
    "engine.runAndWait()\n",
    "engine.say(\"Enter your choice\")\n",
    "cmd=input(\"Enter your choice\")\n",
    "if \"Java\" in :\n",
    "    engine.say(\"enter the ip address\")\n",
    "    engine.runAndWait()\n",
    "    cmd=input(\"ip:\")\n",
    "    z=cmd.encode()\n",
    "    s.send(z)\n",
    "    \n",
    "      \n",
    "    \n",
    "    "
   ]
  },
  {
   "cell_type": "code",
   "execution_count": null,
   "metadata": {},
   "outputs": [],
   "source": [
    "mic=sr.Microphone()\n",
    "rec=sr.Recognizer()\n",
    "#with mic as source:\n",
    "    print(\"say:\")\n",
    "    audio=rec.listen(source)\n",
    "    text=rec.recognize_google(audio)\n",
    "    print(text)\n",
    "    if \"hadoop\" in text:\n",
    "        cmd=\"hadoop\"\n",
    "        cmd1=cmd.encode()\n",
    "        s.send(cmd1)\n",
    "        "
   ]
  },
  {
   "cell_type": "code",
   "execution_count": null,
   "metadata": {},
   "outputs": [],
   "source": [
    "mic=sr.Microphone()\n",
    "rec=sr.Recognizer()\n",
    "with mic as source:\n",
    "    print(\"say:\")\n",
    "    audio=rec.listen(source)\n",
    "    text=rec.recognize_google(audio)\n",
    "    print(text)\n",
    "    if \"hadoop\" in text:\n",
    "        cmd=\"hadoop\"\n",
    "        cmd1=cmd.encode()\n",
    "        s.send(cmd1)\n",
    "        \n",
    "        engine.say(\"there are 5 nodes availbe right now, should i proceed\")\n",
    "        engine.runAndWait()\n",
    "        mic=sr.Microphone()\n",
    "        rec=sr.Recognize()\n",
    "        with mic as source:\n",
    "            print(\"say:\")\n",
    "            audio=rec.listen(source)\n",
    "            text=rec.recognize_google(audio)\n",
    "            print(text)\n",
    "            if \"yes\" in text:\n",
    "                engine.say(\"can you tell the ip of master\")\n",
    "                engine.runAndWait()\n",
    "                mic=sr.Microphone()\n",
    "                rec=sr.Recognize()\n",
    "                with mic as source:\n",
    "                    print(\"say:\")\n",
    "                    audio=rec.listen(source)\n",
    "                    text=rec.recognize_google(audio)\n",
    "                    x=print(text)\n",
    "                    y=\"192.168.43\"+text\n",
    "                    y1=y.encode()\n",
    "                    s.send(y1)\n",
    "                    \n",
    "    \n",
    "        #cmd1=cmd.encode()\n",
    "        #s.send(cmd1)\n",
    "        #print(s.recv(100).decode())'''  "
   ]
  },
  {
   "cell_type": "code",
   "execution_count": null,
   "metadata": {},
   "outputs": [],
   "source": []
  }
 ],
 "metadata": {
  "kernelspec": {
   "display_name": "Python 3",
   "language": "python",
   "name": "python3"
  },
  "language_info": {
   "codemirror_mode": {
    "name": "ipython",
    "version": 3
   },
   "file_extension": ".py",
   "mimetype": "text/x-python",
   "name": "python",
   "nbconvert_exporter": "python",
   "pygments_lexer": "ipython3",
   "version": "3.6.4"
  }
 },
 "nbformat": 4,
 "nbformat_minor": 2
}
